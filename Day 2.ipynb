{
 "cells": [
  {
   "cell_type": "markdown",
   "metadata": {},
   "source": [
    "# Day 2 : Problem #163 [Hard]"
   ]
  },
  {
   "cell_type": "markdown",
   "metadata": {},
   "source": [
    "### Given an arithmetic expression in Reverse Polish Notation, write a program to evaluate it.<br>The expression is given as a list of numbers and operands. For example: [5, 3, '+'] should return 5 + 3 = 8.<br>\n",
    "\n",
    "For example,<b> [15, 7, 1, 1, '+', '-', '/', 3, '*', 2, 1, 1, '+', '+', '-']</b> should return 5, since it is equivalent to <b>((15 / (7 - (1 + 1))) * 3) - (2 + (1 + 1)) = 5</b>."
   ]
  },
  {
   "cell_type": "code",
   "execution_count": 2,
   "metadata": {},
   "outputs": [],
   "source": [
    "## Possible solution which we can do is make two stack and keep track of syombles and do the operations "
   ]
  },
  {
   "cell_type": "code",
   "execution_count": 29,
   "metadata": {},
   "outputs": [],
   "source": [
    "def integer(c):\n",
    "    if len(c) > 1:\n",
    "        return True\n",
    "    else:\n",
    "        if ord(c) > 47:\n",
    "            return True \n",
    "        else:\n",
    "            return False"
   ]
  },
  {
   "cell_type": "code",
   "execution_count": 30,
   "metadata": {},
   "outputs": [],
   "source": [
    "def opperator(l,r,c):\n",
    "    if len(r) == 0:\n",
    "        b = l.pop()\n",
    "        a = l.pop()\n",
    "    else:\n",
    "        b = r.pop()\n",
    "        a = l.pop()\n",
    "        \n",
    "    if c == '+':\n",
    "        return a+b\n",
    "    elif c == '-':\n",
    "        return a-b\n",
    "    elif c == '*':\n",
    "        return a*b\n",
    "    elif c == '/':\n",
    "        return a/b"
   ]
  },
  {
   "cell_type": "code",
   "execution_count": 37,
   "metadata": {},
   "outputs": [],
   "source": [
    "def equation_solver(l):\n",
    "    left_stack = []\n",
    "    right_stack = []\n",
    "    \n",
    "    for x in l:\n",
    "        if integer(x):\n",
    "            left_stack.append(int(x))\n",
    "        else:\n",
    "            r = opperator(left_stack, right_stack, x)\n",
    "            if len(left_stack) == 0:\n",
    "                left_stack.append(r)\n",
    "            else:\n",
    "                right_stack.append(r)\n",
    "#     print(left_stack)\n",
    "#     print(right_stack)\n",
    "    return left_stack[0]      \n",
    "    "
   ]
  },
  {
   "cell_type": "markdown",
   "metadata": {},
   "source": [
    "#### example 1"
   ]
  },
  {
   "cell_type": "code",
   "execution_count": 38,
   "metadata": {},
   "outputs": [],
   "source": [
    "l = ['15', '7', '1', '1', '+', '-', '/', '3', '*', '2', '1', '1', '+', '+', '-']"
   ]
  },
  {
   "cell_type": "code",
   "execution_count": 39,
   "metadata": {},
   "outputs": [
    {
     "data": {
      "text/plain": [
       "5.0"
      ]
     },
     "execution_count": 39,
     "metadata": {},
     "output_type": "execute_result"
    }
   ],
   "source": [
    "equation_solver(l)"
   ]
  },
  {
   "cell_type": "markdown",
   "metadata": {},
   "source": [
    "#### example 2: (2+4) * (4+6) --> ['2','4','+','4','6','+','*']"
   ]
  },
  {
   "cell_type": "code",
   "execution_count": 42,
   "metadata": {},
   "outputs": [],
   "source": [
    "l = ['2','4','+','4','6','+','*']"
   ]
  },
  {
   "cell_type": "code",
   "execution_count": 43,
   "metadata": {},
   "outputs": [
    {
     "data": {
      "text/plain": [
       "60"
      ]
     },
     "execution_count": 43,
     "metadata": {},
     "output_type": "execute_result"
    }
   ],
   "source": [
    "equation_solver(l)"
   ]
  },
  {
   "cell_type": "markdown",
   "metadata": {},
   "source": [
    "#### example 3: (4+(10/5)) --> ['4' , '10' , '5' , '/', '+']"
   ]
  },
  {
   "cell_type": "code",
   "execution_count": 49,
   "metadata": {},
   "outputs": [],
   "source": [
    "l =  ['4' , '10' , '5' , '/', '+']"
   ]
  },
  {
   "cell_type": "code",
   "execution_count": 50,
   "metadata": {},
   "outputs": [
    {
     "data": {
      "text/plain": [
       "6.0"
      ]
     },
     "execution_count": 50,
     "metadata": {},
     "output_type": "execute_result"
    }
   ],
   "source": [
    "equation_solver(l)"
   ]
  }
 ],
 "metadata": {
  "kernelspec": {
   "display_name": "Python 3",
   "language": "python",
   "name": "python3"
  },
  "language_info": {
   "codemirror_mode": {
    "name": "ipython",
    "version": 3
   },
   "file_extension": ".py",
   "mimetype": "text/x-python",
   "name": "python",
   "nbconvert_exporter": "python",
   "pygments_lexer": "ipython3",
   "version": "3.7.5"
  }
 },
 "nbformat": 4,
 "nbformat_minor": 4
}
