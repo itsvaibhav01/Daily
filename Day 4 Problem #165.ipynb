{
 "cells": [
  {
   "cell_type": "markdown",
   "metadata": {},
   "source": [
    "# Day 4 : Problem #165 [Medium]"
   ]
  },
  {
   "cell_type": "markdown",
   "metadata": {},
   "source": [
    "#### Given an array of integers, return a new array where each element in the new array is the number of smaller elements to the right of that element in the original input array."
   ]
  },
  {
   "cell_type": "markdown",
   "metadata": {},
   "source": [
    "##### For example, given the array [3, 4, 9, 6, 1], return [1, 1, 2, 1, 0]"
   ]
  },
  {
   "cell_type": "code",
   "execution_count": 54,
   "metadata": {},
   "outputs": [],
   "source": [
    "#  we can make a heap keeping track of min number"
   ]
  },
  {
   "cell_type": "markdown",
   "metadata": {},
   "source": [
    "I am not exactly sure about the time complexity but if we see the worst case will be when an element will have to dig all the elements to get minima will make the time complexity as O(n^2) but that wont be needed everytime and heapification can be done in O(logn) so average time complexity can be :<br> <b> O(n log n) < complexity < O(n^2)</b>\n",
    "<br>\n",
    "better then naive way"
   ]
  },
  {
   "cell_type": "code",
   "execution_count": 55,
   "metadata": {},
   "outputs": [],
   "source": [
    "import heapq "
   ]
  },
  {
   "cell_type": "code",
   "execution_count": 56,
   "metadata": {},
   "outputs": [],
   "source": [
    "def solution(l):\n",
    "    r = []\n",
    "    heapq.heapify(r)\n",
    "    t = [0]*len(l)\n",
    "    \n",
    "    for x in reversed(range(len(l))):\n",
    "        temp = []\n",
    "        if len(r) != 0:\n",
    "            while r[0] < l[x]:\n",
    "                temp.append(heapq.heappop(r))\n",
    "                if len(r) == 0:\n",
    "                    break\n",
    "                    \n",
    "            t[x] = len(temp)\n",
    "            for y in temp:\n",
    "                heapq.heappush(r,y)\n",
    "                \n",
    "    \n",
    "        heapq.heappush(r,l[x])\n",
    "        \n",
    "        \n",
    "    return t"
   ]
  },
  {
   "cell_type": "markdown",
   "metadata": {},
   "source": [
    "##### Example 1"
   ]
  },
  {
   "cell_type": "code",
   "execution_count": 57,
   "metadata": {},
   "outputs": [
    {
     "data": {
      "text/plain": [
       "[1, 1, 2, 1, 0]"
      ]
     },
     "execution_count": 57,
     "metadata": {},
     "output_type": "execute_result"
    }
   ],
   "source": [
    "l = [3,4,9,6,1]\n",
    "solution(l)"
   ]
  },
  {
   "cell_type": "markdown",
   "metadata": {},
   "source": [
    "##### Example 2"
   ]
  },
  {
   "cell_type": "code",
   "execution_count": 58,
   "metadata": {},
   "outputs": [
    {
     "data": {
      "text/plain": [
       "[6, 1, 1, 1, 0, 1, 0]"
      ]
     },
     "execution_count": 58,
     "metadata": {},
     "output_type": "execute_result"
    }
   ],
   "source": [
    "l = [12, 1, 2, 3, 0, 11, 4]\n",
    "solution(l)"
   ]
  },
  {
   "cell_type": "markdown",
   "metadata": {},
   "source": [
    "##### Example 3"
   ]
  },
  {
   "cell_type": "code",
   "execution_count": 59,
   "metadata": {},
   "outputs": [
    {
     "data": {
      "text/plain": [
       "[4, 3, 2, 1, 0]"
      ]
     },
     "execution_count": 59,
     "metadata": {},
     "output_type": "execute_result"
    }
   ],
   "source": [
    "l = [5, 4, 3, 2, 1]\n",
    "solution(l)"
   ]
  }
 ],
 "metadata": {
  "kernelspec": {
   "display_name": "Python 3",
   "language": "python",
   "name": "python3"
  },
  "language_info": {
   "codemirror_mode": {
    "name": "ipython",
    "version": 3
   },
   "file_extension": ".py",
   "mimetype": "text/x-python",
   "name": "python",
   "nbconvert_exporter": "python",
   "pygments_lexer": "ipython3",
   "version": "3.7.5"
  }
 },
 "nbformat": 4,
 "nbformat_minor": 4
}
