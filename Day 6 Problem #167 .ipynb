{
 "cells": [
  {
   "cell_type": "markdown",
   "metadata": {},
   "source": [
    "# Daily Coding Problem: Problem #167 [Hard]"
   ]
  },
  {
   "cell_type": "markdown",
   "metadata": {},
   "source": [
    "---"
   ]
  },
  {
   "cell_type": "markdown",
   "metadata": {},
   "source": [
    "##### Given a list of words, find all pairs of unique indices such that the concatenation of the two words is a palindrome."
   ]
  },
  {
   "cell_type": "markdown",
   "metadata": {},
   "source": [
    "For example, given the list <b>[\"code\", \"edoc\", \"da\", \"d\"]</b>, return <b>[(0, 1), (1, 0), (2, 3)]</b>."
   ]
  },
  {
   "cell_type": "markdown",
   "metadata": {},
   "source": [
    "---"
   ]
  },
  {
   "cell_type": "code",
   "execution_count": 2,
   "metadata": {},
   "outputs": [],
   "source": [
    "# Naive way to solve this problem would be to go and check every word in list with O(N^2) and\n",
    "# checking for the Palidrom will take O(m), where m is max size of word."
   ]
  },
  {
   "cell_type": "code",
   "execution_count": 37,
   "metadata": {},
   "outputs": [],
   "source": [
    "def is_palidrome(a,b):\n",
    "    t = a + b\n",
    "    \n",
    "    for x in range(len(t)//2):\n",
    "        if t[x] != t[len(t)-x - 1]:\n",
    "            return False\n",
    "    return True"
   ]
  },
  {
   "cell_type": "code",
   "execution_count": 38,
   "metadata": {},
   "outputs": [],
   "source": [
    "def simple(l):\n",
    "    result = []\n",
    "    for x in range(len(l)):\n",
    "        for y in range(len(l)):\n",
    "            if is_palidrome(l[x],l[y]) and x != y:\n",
    "                result.append(tuple([x,y]))\n",
    "    return result"
   ]
  },
  {
   "cell_type": "markdown",
   "metadata": {},
   "source": [
    "##### example 1 <br>\n",
    "<i> l = [\"code\", \"edoc\", \"da\", \"d\"] </i> <br>\n",
    "<i>result = [(0, 1), (1, 0), (2, 3)]</i> <br>"
   ]
  },
  {
   "cell_type": "code",
   "execution_count": 39,
   "metadata": {},
   "outputs": [
    {
     "data": {
      "text/plain": [
       "[(0, 1), (1, 0), (2, 3)]"
      ]
     },
     "execution_count": 39,
     "metadata": {},
     "output_type": "execute_result"
    }
   ],
   "source": [
    "l = [\"code\", \"edoc\", \"da\", \"d\"]\n",
    "simple(l)"
   ]
  }
 ],
 "metadata": {
  "kernelspec": {
   "display_name": "Python 3",
   "language": "python",
   "name": "python3"
  },
  "language_info": {
   "codemirror_mode": {
    "name": "ipython",
    "version": 3
   },
   "file_extension": ".py",
   "mimetype": "text/x-python",
   "name": "python",
   "nbconvert_exporter": "python",
   "pygments_lexer": "ipython3",
   "version": "3.7.5"
  }
 },
 "nbformat": 4,
 "nbformat_minor": 4
}
