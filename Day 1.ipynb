{
 "cells": [
  {
   "cell_type": "markdown",
   "metadata": {},
   "source": [
    "# Daily Coding Problem: Problem #161 [Easy]"
   ]
  },
  {
   "cell_type": "markdown",
   "metadata": {},
   "source": [
    "### Given a 32-bit integer, return the number with its bits reversed.\n",
    "\n",
    "For example, given the binary number-<br>\n",
    "       <b>1111 0000 1111 0000 1111 0000 1111 0000</b>,<br>\n",
    "return <b>0000 1111 0000 1111 0000 1111 0000 1111</b>."
   ]
  },
  {
   "cell_type": "code",
   "execution_count": 25,
   "metadata": {},
   "outputs": [],
   "source": [
    "def bit_reversed(n):\n",
    "    s = bin(n)\n",
    "    \n",
    "    if len(s) <= 34:\n",
    "        r = 2**32 - 1 - n\n",
    "        return bin(r)[2:]\n",
    "    else:\n",
    "        print(\"Number bigger than 32 bits!\")"
   ]
  },
  {
   "cell_type": "code",
   "execution_count": 26,
   "metadata": {},
   "outputs": [
    {
     "data": {
      "text/plain": [
       "'1111000011110000111100001111'"
      ]
     },
     "execution_count": 26,
     "metadata": {},
     "output_type": "execute_result"
    }
   ],
   "source": [
    "bit_reversed(4042322160)"
   ]
  }
 ],
 "metadata": {
  "kernelspec": {
   "display_name": "Python 3",
   "language": "python",
   "name": "python3"
  },
  "language_info": {
   "codemirror_mode": {
    "name": "ipython",
    "version": 3
   },
   "file_extension": ".py",
   "mimetype": "text/x-python",
   "name": "python",
   "nbconvert_exporter": "python",
   "pygments_lexer": "ipython3",
   "version": "3.7.5"
  }
 },
 "nbformat": 4,
 "nbformat_minor": 4
}
