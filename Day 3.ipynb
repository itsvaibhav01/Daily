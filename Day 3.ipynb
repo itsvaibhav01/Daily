{
 "cells": [
  {
   "cell_type": "markdown",
   "metadata": {},
   "source": [
    "# Day 3 - Problem #164 [Medium]"
   ]
  },
  {
   "cell_type": "markdown",
   "metadata": {},
   "source": [
    "##### You are given an array of length n + 1 whose elements belong to the set {1, 2, ..., n}. \n",
    "##### By the pigeonhole principle, there must be a duplicate. Find it in linear time and space.\n",
    "This problem was asked by Google."
   ]
  },
  {
   "cell_type": "code",
   "execution_count": 1,
   "metadata": {},
   "outputs": [],
   "source": [
    "## The approach is very straight farward, we can make an array of n numbers of -1 value at each index\n",
    "## as we move through the list we can update the index with 0 and which ever value gets dublicate will see 0\n",
    "## in the second list"
   ]
  },
  {
   "cell_type": "code",
   "execution_count": 2,
   "metadata": {},
   "outputs": [],
   "source": [
    "def find_dublicate(l):\n",
    "    n = len(l) -1 \n",
    "    k = [-1]*n\n",
    "    for x in l:\n",
    "        if k[x] != 0:\n",
    "            k[x] = 0\n",
    "        else:\n",
    "            return x"
   ]
  },
  {
   "cell_type": "markdown",
   "metadata": {},
   "source": [
    "#### example 1 \n",
    "l = [1,2,3,4,5,5,6,7,8,9,10]<br>\n",
    "result should be 5"
   ]
  },
  {
   "cell_type": "code",
   "execution_count": 3,
   "metadata": {},
   "outputs": [
    {
     "data": {
      "text/plain": [
       "5"
      ]
     },
     "execution_count": 3,
     "metadata": {},
     "output_type": "execute_result"
    }
   ],
   "source": [
    "l = [1,2,3,4,5,5,6,7,8,9,10]\n",
    "find_dublicate(l)"
   ]
  },
  {
   "cell_type": "markdown",
   "metadata": {},
   "source": [
    "#### example -2 : with linear time proof"
   ]
  },
  {
   "cell_type": "code",
   "execution_count": 4,
   "metadata": {},
   "outputs": [],
   "source": [
    "import numpy as np\n",
    "import time\n",
    "l = np.arange(1,10**7)\n",
    "r = np.random.randint(0,10**7)\n",
    "d = np.random.randint(0,10**7)\n",
    "l[r] = d"
   ]
  },
  {
   "cell_type": "code",
   "execution_count": 5,
   "metadata": {},
   "outputs": [
    {
     "name": "stdout",
     "output_type": "stream",
     "text": [
      "True\n",
      "0.7234547760000001\n"
     ]
    }
   ],
   "source": [
    "start = time.process_time()\n",
    "print(d == find_dublicate(l))\n",
    "print(time.process_time() - start)"
   ]
  }
 ],
 "metadata": {
  "kernelspec": {
   "display_name": "Python 3",
   "language": "python",
   "name": "python3"
  },
  "language_info": {
   "codemirror_mode": {
    "name": "ipython",
    "version": 3
   },
   "file_extension": ".py",
   "mimetype": "text/x-python",
   "name": "python",
   "nbconvert_exporter": "python",
   "pygments_lexer": "ipython3",
   "version": "3.7.5"
  }
 },
 "nbformat": 4,
 "nbformat_minor": 4
}
